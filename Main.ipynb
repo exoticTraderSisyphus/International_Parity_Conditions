{
  "nbformat": 4,
  "nbformat_minor": 0,
  "metadata": {
    "colab": {
      "provenance": [],
      "authorship_tag": "ABX9TyOVxc6yCnjq3fTCu0fEG1Xn",
      "include_colab_link": true
    },
    "kernelspec": {
      "name": "python3",
      "display_name": "Python 3"
    },
    "language_info": {
      "name": "python"
    }
  },
  "cells": [
    {
      "cell_type": "markdown",
      "metadata": {
        "id": "view-in-github",
        "colab_type": "text"
      },
      "source": [
        "<a href=\"https://colab.research.google.com/github/exoticTraderSisyphus/International_Parity_Conditions/blob/main/Main.ipynb\" target=\"_parent\"><img src=\"https://colab.research.google.com/assets/colab-badge.svg\" alt=\"Open In Colab\"/></a>"
      ]
    },
    {
      "cell_type": "code",
      "execution_count": 2,
      "metadata": {
        "id": "9H-GXbSnlxhx"
      },
      "outputs": [],
      "source": [
        "import pandas as pd, numpy as np\n",
        "import requests\n",
        "import json\n",
        "import datetime as dt"
      ]
    },
    {
      "cell_type": "code",
      "source": [],
      "metadata": {
        "id": "zAZj0I_HnAyB"
      },
      "execution_count": null,
      "outputs": []
    }
  ]
}